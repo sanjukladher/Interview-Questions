{
 "cells": [
  {
   "cell_type": "code",
   "execution_count": 5,
   "id": "ae84eeac",
   "metadata": {},
   "outputs": [
    {
     "name": "stdout",
     "output_type": "stream",
     "text": [
      "True\n",
      "False\n",
      "False\n",
      "True\n"
     ]
    }
   ],
   "source": [
    "#Return True if a strings follows consecutive 1's and consecutive's 0 of same length?\n",
    "\n",
    "# like 101010 is true because after each one is one zero \n",
    "\n",
    "# like 10010010 is false because after each one is two zeros\n",
    "\n",
    "# like 110011100010 is True because after each number of ones it follows same number of zeros\n",
    "\n",
    "\n",
    "def find_consecutive_sequence(test_str):\n",
    "    \n",
    "    ones = list(filter(None, test_str.split('0')))\n",
    "    zeros = list(filter(None, test_str.split('1')))\n",
    "    #print (ones,zeros)\n",
    "\n",
    "    boo= True\n",
    "    if len(ones) == len(zeros):\n",
    "        for i in range(len(ones)):\n",
    "            if len(ones[i]) != len(zeros[i]):\n",
    "                boo= False\n",
    "    else:\n",
    "        boo =False\n",
    "    \n",
    "    return boo\n",
    "\n",
    "\n",
    "print(find_consecutive_sequence('110011100010'))  #True     ones:['11', '111', '1']  zeros:['00', '000', '0']\n",
    "print(find_consecutive_sequence('1001'))  # False           ones:['1','1']  zeros:['00']\n",
    "print(find_consecutive_sequence('110010101')) # False       ones:['11', '1', '1', '1'], zeros:['00', '0', '0']\n",
    "print(find_consecutive_sequence('1100101010')) # True       ones:['11', '1', '1', '1'],  zeros: ['00', '0', '0', '0']"
   ]
  }
 ],
 "metadata": {
  "kernelspec": {
   "display_name": "Python 3",
   "language": "python",
   "name": "python3"
  },
  "language_info": {
   "codemirror_mode": {
    "name": "ipython",
    "version": 3
   },
   "file_extension": ".py",
   "mimetype": "text/x-python",
   "name": "python",
   "nbconvert_exporter": "python",
   "pygments_lexer": "ipython3",
   "version": "3.8.8"
  }
 },
 "nbformat": 4,
 "nbformat_minor": 5
}
